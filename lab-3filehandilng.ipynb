{
 "cells": [
  {
   "cell_type": "code",
   "execution_count": 23,
   "metadata": {},
   "outputs": [],
   "source": [
    "# write a python program to read data from a file and check if data is string or numbers, print only numbers from the file\n",
    "with open(\"C:\\\\Users\\\\srika\\\\OneDrive - WOXSEN UNIVERSITY\\\\Desktop\\\\sample_file.txt\", 'r') as file_1, open(\"C:\\\\Users\\\\srika\\\\OneDrive - WOXSEN UNIVERSITY\\\\Desktop\\\\numbers.txt\", 'w') as file_2:\n",
    "    for s in file_1:\n",
    "        s = s.strip() \n",
    "        if s.isnumeric(): \n",
    "            file_2.write(s+ '\\n')"
   ]
  },
  {
   "cell_type": "code",
   "execution_count": 25,
   "metadata": {},
   "outputs": [],
   "source": [
    "import math"
   ]
  },
  {
   "cell_type": "code",
   "execution_count": 40,
   "metadata": {},
   "outputs": [
    {
     "ename": "UnsupportedOperation",
     "evalue": "not readable",
     "output_type": "error",
     "traceback": [
      "\u001b[1;31m---------------------------------------------------------------------------\u001b[0m",
      "\u001b[1;31mUnsupportedOperation\u001b[0m                      Traceback (most recent call last)",
      "Cell \u001b[1;32mIn[40], line 4\u001b[0m\n\u001b[0;32m      2\u001b[0m \u001b[39mwith\u001b[39;00m \u001b[39mopen\u001b[39m(\u001b[39m\"\u001b[39m\u001b[39mC:\u001b[39m\u001b[39m\\\\\u001b[39;00m\u001b[39mUsers\u001b[39m\u001b[39m\\\\\u001b[39;00m\u001b[39msrika\u001b[39m\u001b[39m\\\\\u001b[39;00m\u001b[39mOneDrive - WOXSEN UNIVERSITY\u001b[39m\u001b[39m\\\\\u001b[39;00m\u001b[39mDesktop\u001b[39m\u001b[39m\\\\\u001b[39;00m\u001b[39mnumbers.txt\u001b[39m\u001b[39m\"\u001b[39m,\u001b[39m\"\u001b[39m\u001b[39mw\u001b[39m\u001b[39m\"\u001b[39m) \u001b[39mas\u001b[39;00m file:\n\u001b[0;32m      3\u001b[0m     s\u001b[39m=\u001b[39m\u001b[39m0\u001b[39m\n\u001b[1;32m----> 4\u001b[0m     \u001b[39mfor\u001b[39;00m i \u001b[39min\u001b[39;00m file:\n\u001b[0;32m      5\u001b[0m         s\u001b[39m=\u001b[39m s\u001b[39m+\u001b[39m math\u001b[39m.\u001b[39mfactorial(\u001b[39mint\u001b[39m(i))\n\u001b[0;32m      6\u001b[0m         \u001b[39mif\u001b[39;00m s \u001b[39m==\u001b[39m file:\n",
      "\u001b[1;31mUnsupportedOperation\u001b[0m: not readable"
     ]
    }
   ],
   "source": [
    "# read numbers.txt if it is a number, check whether the number is a strong numbers or not. if it's a strong number, save it in another file called strong_num.txt\n",
    "with open(\"C:\\\\Users\\\\srika\\\\OneDrive - WOXSEN UNIVERSITY\\\\Desktop\\\\numbers.txt\",\"w\") as file:\n",
    "    s=0\n",
    "    for i in file:\n",
    "        s= s+ math.factorial(int(i))\n",
    "        if s == file:\n",
    "            print(\"strong\")\n"
   ]
  },
  {
   "cell_type": "code",
   "execution_count": 41,
   "metadata": {},
   "outputs": [],
   "source": [
    "def is_strong(n):\n",
    "    \"\"\"\n",
    "    Returns True if n is a strong number, False otherwise.\n",
    "    \"\"\"\n",
    "    return n == sum(factorial(int(d)) for d in str(n))\n",
    "\n",
    "def factorial(n):\n",
    "    \"\"\"\n",
    "    Returns the factorial of n.\n",
    "    \"\"\"\n",
    "    return 1 if n == 0 else n * factorial(n - 1)\n",
    "\n",
    "with open('numbers.txt', 'r') as input_file, open('strong_num.txt', 'w') as output_file:\n",
    "    for line in input_file:\n",
    "        num = line.strip()\n",
    "        if num.isdigit() and is_strong(int(num)):\n",
    "            output_file.write(num + '\\n')\n"
   ]
  },
  {
   "cell_type": "code",
   "execution_count": 42,
   "metadata": {},
   "outputs": [
    {
     "name": "stdout",
     "output_type": "stream",
     "text": [
      "Total number of occurrences: 3\n"
     ]
    }
   ],
   "source": [
    "# a file contains integer values where each line represents a list, write a python program to check whether it contains same number in susequent position. Display the count of such occurrences and store the result in csv file\n",
    "counts = 0\n",
    "with open(\"C:\\\\Users\\\\srika\\\\OneDrive - WOXSEN UNIVERSITY\\\\Desktop\\\\question_3.txt\", 'r') as f:\n",
    "    lines = f.readlines()\n",
    "    for line in lines:\n",
    "        numbers = line.strip().split()\n",
    "        for i in range(len(numbers)-1):\n",
    "            if numbers[i] == numbers[i+1]:\n",
    "                counts += 1\n",
    "                line =+1\n",
    "\n",
    "\n",
    "print(f\"Total number of occurrences: {counts}\")\n"
   ]
  }
 ],
 "metadata": {
  "kernelspec": {
   "display_name": "Python 3",
   "language": "python",
   "name": "python3"
  },
  "language_info": {
   "codemirror_mode": {
    "name": "ipython",
    "version": 3
   },
   "file_extension": ".py",
   "mimetype": "text/x-python",
   "name": "python",
   "nbconvert_exporter": "python",
   "pygments_lexer": "ipython3",
   "version": "3.11.1"
  },
  "orig_nbformat": 4
 },
 "nbformat": 4,
 "nbformat_minor": 2
}
